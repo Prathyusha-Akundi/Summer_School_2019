{
 "cells": [
  {
   "cell_type": "code",
   "execution_count": 1,
   "metadata": {},
   "outputs": [
    {
     "name": "stdout",
     "output_type": "stream",
     "text": [
      "WARNING:tensorflow:From <ipython-input-1-78641beb7a25>:6: read_data_sets (from tensorflow.contrib.learn.python.learn.datasets.mnist) is deprecated and will be removed in a future version.\n",
      "Instructions for updating:\n",
      "Please use alternatives such as official/mnist/dataset.py from tensorflow/models.\n",
      "WARNING:tensorflow:From /home/prathyuakundi/miniconda3/envs/tfenv/lib/python3.6/site-packages/tensorflow/contrib/learn/python/learn/datasets/mnist.py:260: maybe_download (from tensorflow.contrib.learn.python.learn.datasets.base) is deprecated and will be removed in a future version.\n",
      "Instructions for updating:\n",
      "Please write your own downloading logic.\n",
      "WARNING:tensorflow:From /home/prathyuakundi/miniconda3/envs/tfenv/lib/python3.6/site-packages/tensorflow/contrib/learn/python/learn/datasets/mnist.py:262: extract_images (from tensorflow.contrib.learn.python.learn.datasets.mnist) is deprecated and will be removed in a future version.\n",
      "Instructions for updating:\n",
      "Please use tf.data to implement this functionality.\n",
      "Extracting MNIST_data/train-images-idx3-ubyte.gz\n",
      "WARNING:tensorflow:From /home/prathyuakundi/miniconda3/envs/tfenv/lib/python3.6/site-packages/tensorflow/contrib/learn/python/learn/datasets/mnist.py:267: extract_labels (from tensorflow.contrib.learn.python.learn.datasets.mnist) is deprecated and will be removed in a future version.\n",
      "Instructions for updating:\n",
      "Please use tf.data to implement this functionality.\n",
      "Extracting MNIST_data/train-labels-idx1-ubyte.gz\n",
      "Extracting MNIST_data/t10k-images-idx3-ubyte.gz\n",
      "Extracting MNIST_data/t10k-labels-idx1-ubyte.gz\n",
      "WARNING:tensorflow:From /home/prathyuakundi/miniconda3/envs/tfenv/lib/python3.6/site-packages/tensorflow/contrib/learn/python/learn/datasets/mnist.py:290: DataSet.__init__ (from tensorflow.contrib.learn.python.learn.datasets.mnist) is deprecated and will be removed in a future version.\n",
      "Instructions for updating:\n",
      "Please use alternatives such as official/mnist/dataset.py from tensorflow/models.\n"
     ]
    }
   ],
   "source": [
    "import numpy as np\n",
    "import tensorflow as tf\n",
    "import os\n",
    "import numpy as np\n",
    "from tensorflow.examples.tutorials.mnist import input_data\n",
    "mnist = input_data.read_data_sets(\"MNIST_data/\", one_hot=False)\n",
    "from skimage.measure import compare_ssim as ssim\n",
    "from skimage.measure import compare_mse as mse\n",
    "from PIL import Image\n",
    "import pickle\n",
    "from random import shuffle"
   ]
  },
  {
   "cell_type": "code",
   "execution_count": 2,
   "metadata": {},
   "outputs": [],
   "source": [
    "import matplotlib.pyplot as plt"
   ]
  },
  {
   "cell_type": "code",
   "execution_count": 3,
   "metadata": {},
   "outputs": [],
   "source": [
    "gauss = np.random.normal(3,0.2,(784,))\n",
    "\n",
    "train_imgs = mnist.train.images\n",
    "test_imgs = mnist.test.images\n",
    "\n",
    "noise_train = np.array([(img+gauss) for img in train_imgs])\n",
    "\n",
    "noise_test = np.array([(img+gauss) for img in test_imgs])"
   ]
  },
  {
   "cell_type": "code",
   "execution_count": 4,
   "metadata": {},
   "outputs": [],
   "source": [
    "train_labels = mnist.train.labels\n",
    "test_labels = mnist.test.labels"
   ]
  },
  {
   "cell_type": "code",
   "execution_count": 5,
   "metadata": {},
   "outputs": [],
   "source": [
    "train_imgs = train_imgs.reshape(train_imgs.shape[0], 28, 28, 1)\n",
    "test_imgs = test_imgs.reshape(test_imgs.shape[0], 28, 28, 1)"
   ]
  },
  {
   "cell_type": "code",
   "execution_count": 6,
   "metadata": {},
   "outputs": [],
   "source": [
    "noise_train = noise_train.reshape(noise_train.shape[0], 28, 28,1 )\n",
    "noise_test = noise_test.reshape(noise_test.shape[0], 28, 28, 1)"
   ]
  },
  {
   "cell_type": "code",
   "execution_count": 7,
   "metadata": {},
   "outputs": [],
   "source": [
    "input_shape = (28, 28, 1)"
   ]
  },
  {
   "cell_type": "code",
   "execution_count": 8,
   "metadata": {},
   "outputs": [],
   "source": [
    "train_imgs = train_imgs.astype('float32')\n",
    "test_imgs = test_imgs.astype('float32')\n",
    "noise_train = noise_train.astype('float32')\n",
    "noise_test = noise_test.astype('float32')"
   ]
  },
  {
   "cell_type": "code",
   "execution_count": 9,
   "metadata": {},
   "outputs": [],
   "source": [
    "train_imgs /= 255\n",
    "test_imgs /= 255\n",
    "noise_train /= 255\n",
    "noise_test /= 255"
   ]
  },
  {
   "cell_type": "code",
   "execution_count": 10,
   "metadata": {},
   "outputs": [],
   "source": [
    "train_labels_onehot = tf.one_hot(train_labels,depth = 10)\n",
    "test_labels_onehot = tf.one_hot(test_labels,depth = 10)"
   ]
  },
  {
   "cell_type": "code",
   "execution_count": 11,
   "metadata": {},
   "outputs": [],
   "source": [
    "sess = tf.Session(config=tf.ConfigProto(allow_soft_placement=True))\n",
    "   \n",
    "train_labels_onehot = sess.run(train_labels_onehot)\n",
    "test_labels_onehot = sess.run(test_labels_onehot)"
   ]
  },
  {
   "cell_type": "markdown",
   "metadata": {},
   "source": [
    "### MODEL: TASK 1 ###"
   ]
  },
  {
   "cell_type": "code",
   "execution_count": 19,
   "metadata": {},
   "outputs": [
    {
     "name": "stderr",
     "output_type": "stream",
     "text": [
      "Using TensorFlow backend.\n"
     ]
    }
   ],
   "source": [
    "from keras.models import Sequential\n",
    "from keras.layers import Dense, Conv2D, Dropout, Flatten, MaxPooling2D\n",
    "from keras.optimizers import SGD, Adadelta, Adagrad, RMSprop,Adam\n",
    "from keras.utils import np_utils, generic_utils\n",
    "from keras.layers import Input\n",
    "from keras.callbacks import EarlyStopping, ModelCheckpoint"
   ]
  },
  {
   "cell_type": "code",
   "execution_count": 20,
   "metadata": {},
   "outputs": [],
   "source": [
    "def get_model():\n",
    "# Creating a Sequential Model and adding the layers\n",
    "    model = Sequential()\n",
    "    model.add(Conv2D(28, kernel_size=(3,3), input_shape=input_shape))\n",
    "    model.add(MaxPooling2D(pool_size=(2, 2)))\n",
    "    model.add(Flatten()) # Flattening the 2D arrays for fully connected layers\n",
    "    model.add(Dense(128, activation=tf.nn.relu))\n",
    "    model.add(Dropout(0.2))\n",
    "    model.add(Dense(10,activation=tf.nn.softmax))\n",
    "    adm = Adam(lr=0.0001,beta_1=0.9,beta_2=0.999,epsilon=1e-08)\n",
    "    model.compile(optimizer=adm,  loss='categorical_crossentropy', metrics=['accuracy'])\n",
    "    return model"
   ]
  },
  {
   "cell_type": "code",
   "execution_count": 21,
   "metadata": {},
   "outputs": [],
   "source": [
    "model = get_model()"
   ]
  },
  {
   "cell_type": "code",
   "execution_count": 22,
   "metadata": {},
   "outputs": [
    {
     "name": "stdout",
     "output_type": "stream",
     "text": [
      "_________________________________________________________________\n",
      "Layer (type)                 Output Shape              Param #   \n",
      "=================================================================\n",
      "conv2d_1 (Conv2D)            (None, 26, 26, 28)        280       \n",
      "_________________________________________________________________\n",
      "max_pooling2d_1 (MaxPooling2 (None, 13, 13, 28)        0         \n",
      "_________________________________________________________________\n",
      "flatten_1 (Flatten)          (None, 4732)              0         \n",
      "_________________________________________________________________\n",
      "dense_1 (Dense)              (None, 128)               605824    \n",
      "_________________________________________________________________\n",
      "dropout_1 (Dropout)          (None, 128)               0         \n",
      "_________________________________________________________________\n",
      "dense_2 (Dense)              (None, 10)                1290      \n",
      "=================================================================\n",
      "Total params: 607,394\n",
      "Trainable params: 607,394\n",
      "Non-trainable params: 0\n",
      "_________________________________________________________________\n"
     ]
    }
   ],
   "source": [
    "model.summary()"
   ]
  },
  {
   "cell_type": "code",
   "execution_count": 23,
   "metadata": {},
   "outputs": [
    {
     "name": "stdout",
     "output_type": "stream",
     "text": [
      "Train on 49500 samples, validate on 5500 samples\n",
      "Epoch 1/30\n",
      "49500/49500 [==============================] - 19s 391us/step - loss: 1.4135 - acc: 0.5924 - val_loss: 0.5628 - val_acc: 0.8744\n",
      "\n",
      "Epoch 00001: val_loss improved from inf to 0.56281, saving model to mnist_weights.h5\n",
      "Epoch 2/30\n",
      "49500/49500 [==============================] - 18s 355us/step - loss: 0.5554 - acc: 0.8364 - val_loss: 0.3386 - val_acc: 0.9100\n",
      "\n",
      "Epoch 00002: val_loss improved from 0.56281 to 0.33865, saving model to mnist_weights.h5\n",
      "Epoch 3/30\n",
      "49500/49500 [==============================] - 17s 348us/step - loss: 0.4303 - acc: 0.8722 - val_loss: 0.2814 - val_acc: 0.9213\n",
      "\n",
      "Epoch 00003: val_loss improved from 0.33865 to 0.28140, saving model to mnist_weights.h5\n",
      "Epoch 4/30\n",
      "49500/49500 [==============================] - 17s 349us/step - loss: 0.3738 - acc: 0.8878 - val_loss: 0.2472 - val_acc: 0.9300\n",
      "\n",
      "Epoch 00004: val_loss improved from 0.28140 to 0.24716, saving model to mnist_weights.h5\n",
      "Epoch 5/30\n",
      "49500/49500 [==============================] - 17s 344us/step - loss: 0.3341 - acc: 0.9014 - val_loss: 0.2177 - val_acc: 0.9382\n",
      "\n",
      "Epoch 00005: val_loss improved from 0.24716 to 0.21766, saving model to mnist_weights.h5\n",
      "Epoch 6/30\n",
      "49500/49500 [==============================] - 17s 352us/step - loss: 0.2996 - acc: 0.9107 - val_loss: 0.1954 - val_acc: 0.9435\n",
      "\n",
      "Epoch 00006: val_loss improved from 0.21766 to 0.19537, saving model to mnist_weights.h5\n",
      "Epoch 7/30\n",
      "49500/49500 [==============================] - 17s 350us/step - loss: 0.2722 - acc: 0.9196 - val_loss: 0.1783 - val_acc: 0.9496\n",
      "\n",
      "Epoch 00007: val_loss improved from 0.19537 to 0.17829, saving model to mnist_weights.h5\n",
      "Epoch 8/30\n",
      "49500/49500 [==============================] - 17s 351us/step - loss: 0.2491 - acc: 0.9266 - val_loss: 0.1646 - val_acc: 0.9513\n",
      "\n",
      "Epoch 00008: val_loss improved from 0.17829 to 0.16458, saving model to mnist_weights.h5\n",
      "Epoch 9/30\n",
      "49500/49500 [==============================] - 17s 348us/step - loss: 0.2279 - acc: 0.9322 - val_loss: 0.1476 - val_acc: 0.9587\n",
      "\n",
      "Epoch 00009: val_loss improved from 0.16458 to 0.14760, saving model to mnist_weights.h5\n",
      "Epoch 10/30\n",
      "49500/49500 [==============================] - 17s 346us/step - loss: 0.2118 - acc: 0.9372 - val_loss: 0.1373 - val_acc: 0.9605\n",
      "\n",
      "Epoch 00010: val_loss improved from 0.14760 to 0.13731, saving model to mnist_weights.h5\n",
      "Epoch 11/30\n",
      "49500/49500 [==============================] - 17s 352us/step - loss: 0.1971 - acc: 0.9414 - val_loss: 0.1293 - val_acc: 0.9616\n",
      "\n",
      "Epoch 00011: val_loss improved from 0.13731 to 0.12926, saving model to mnist_weights.h5\n",
      "Epoch 12/30\n",
      "49500/49500 [==============================] - 17s 353us/step - loss: 0.1849 - acc: 0.9456 - val_loss: 0.1205 - val_acc: 0.9664\n",
      "\n",
      "Epoch 00012: val_loss improved from 0.12926 to 0.12045, saving model to mnist_weights.h5\n",
      "Epoch 13/30\n",
      "49500/49500 [==============================] - 18s 357us/step - loss: 0.1740 - acc: 0.9488 - val_loss: 0.1146 - val_acc: 0.9665\n",
      "\n",
      "Epoch 00013: val_loss improved from 0.12045 to 0.11462, saving model to mnist_weights.h5\n",
      "Epoch 14/30\n",
      "49500/49500 [==============================] - 18s 355us/step - loss: 0.1636 - acc: 0.9499 - val_loss: 0.1081 - val_acc: 0.9680\n",
      "\n",
      "Epoch 00014: val_loss improved from 0.11462 to 0.10809, saving model to mnist_weights.h5\n",
      "Epoch 15/30\n",
      "49500/49500 [==============================] - 17s 347us/step - loss: 0.1560 - acc: 0.9539 - val_loss: 0.1048 - val_acc: 0.9716\n",
      "\n",
      "Epoch 00015: val_loss improved from 0.10809 to 0.10479, saving model to mnist_weights.h5\n",
      "Epoch 16/30\n",
      "49500/49500 [==============================] - 18s 356us/step - loss: 0.1484 - acc: 0.9550 - val_loss: 0.0994 - val_acc: 0.9718\n",
      "\n",
      "Epoch 00016: val_loss improved from 0.10479 to 0.09937, saving model to mnist_weights.h5\n",
      "Epoch 17/30\n",
      "49500/49500 [==============================] - 17s 352us/step - loss: 0.1423 - acc: 0.9574 - val_loss: 0.0947 - val_acc: 0.9727\n",
      "\n",
      "Epoch 00017: val_loss improved from 0.09937 to 0.09468, saving model to mnist_weights.h5\n",
      "Epoch 18/30\n",
      "49500/49500 [==============================] - 17s 348us/step - loss: 0.1361 - acc: 0.9592 - val_loss: 0.0908 - val_acc: 0.9751\n",
      "\n",
      "Epoch 00018: val_loss improved from 0.09468 to 0.09082, saving model to mnist_weights.h5\n",
      "Epoch 19/30\n",
      "49500/49500 [==============================] - 17s 343us/step - loss: 0.1305 - acc: 0.9608 - val_loss: 0.0894 - val_acc: 0.9756\n",
      "\n",
      "Epoch 00019: val_loss improved from 0.09082 to 0.08939, saving model to mnist_weights.h5\n",
      "Epoch 20/30\n",
      "49500/49500 [==============================] - 17s 352us/step - loss: 0.1268 - acc: 0.9626 - val_loss: 0.0870 - val_acc: 0.9744\n",
      "\n",
      "Epoch 00020: val_loss improved from 0.08939 to 0.08700, saving model to mnist_weights.h5\n",
      "Epoch 21/30\n",
      "49500/49500 [==============================] - 17s 352us/step - loss: 0.1210 - acc: 0.9638 - val_loss: 0.0826 - val_acc: 0.9762\n",
      "\n",
      "Epoch 00021: val_loss improved from 0.08700 to 0.08258, saving model to mnist_weights.h5\n",
      "Epoch 22/30\n",
      "49500/49500 [==============================] - 17s 347us/step - loss: 0.1181 - acc: 0.9644 - val_loss: 0.0804 - val_acc: 0.9773\n",
      "\n",
      "Epoch 00022: val_loss improved from 0.08258 to 0.08044, saving model to mnist_weights.h5\n",
      "Epoch 23/30\n",
      "49500/49500 [==============================] - 17s 343us/step - loss: 0.1097 - acc: 0.9655 - val_loss: 0.0813 - val_acc: 0.9773\n",
      "\n",
      "Epoch 00023: val_loss did not improve from 0.08044\n",
      "Epoch 24/30\n",
      "49500/49500 [==============================] - 17s 348us/step - loss: 0.1092 - acc: 0.9668 - val_loss: 0.0782 - val_acc: 0.9780\n",
      "\n",
      "Epoch 00024: val_loss improved from 0.08044 to 0.07823, saving model to mnist_weights.h5\n",
      "Epoch 25/30\n",
      "49500/49500 [==============================] - 17s 351us/step - loss: 0.1053 - acc: 0.9671 - val_loss: 0.0767 - val_acc: 0.9773\n",
      "\n",
      "Epoch 00025: val_loss improved from 0.07823 to 0.07669, saving model to mnist_weights.h5\n",
      "Epoch 26/30\n",
      "49500/49500 [==============================] - 17s 352us/step - loss: 0.1029 - acc: 0.9692 - val_loss: 0.0736 - val_acc: 0.9787\n",
      "\n",
      "Epoch 00026: val_loss improved from 0.07669 to 0.07363, saving model to mnist_weights.h5\n",
      "Epoch 27/30\n",
      "49500/49500 [==============================] - 17s 351us/step - loss: 0.0991 - acc: 0.9701 - val_loss: 0.0725 - val_acc: 0.9798\n",
      "\n",
      "Epoch 00027: val_loss improved from 0.07363 to 0.07252, saving model to mnist_weights.h5\n",
      "Epoch 28/30\n",
      "49500/49500 [==============================] - 18s 358us/step - loss: 0.0953 - acc: 0.9711 - val_loss: 0.0729 - val_acc: 0.9795\n",
      "\n",
      "Epoch 00028: val_loss did not improve from 0.07252\n",
      "Epoch 29/30\n",
      "49500/49500 [==============================] - 18s 361us/step - loss: 0.0927 - acc: 0.9720 - val_loss: 0.0705 - val_acc: 0.9804\n",
      "\n",
      "Epoch 00029: val_loss improved from 0.07252 to 0.07048, saving model to mnist_weights.h5\n",
      "Epoch 30/30\n",
      "49500/49500 [==============================] - 18s 365us/step - loss: 0.0909 - acc: 0.9726 - val_loss: 0.0696 - val_acc: 0.9796\n",
      "\n",
      "Epoch 00030: val_loss improved from 0.07048 to 0.06958, saving model to mnist_weights.h5\n"
     ]
    }
   ],
   "source": [
    "earlystopper = EarlyStopping(patience=5, verbose=1)\n",
    "checkpointer = ModelCheckpoint('mnist_weights.h5', verbose=1, save_best_only=True)\n",
    "results = model.fit(train_imgs, train_labels_onehot,epochs=30, validation_split=0.1, batch_size=8,callbacks=[earlystopper, checkpointer])\n",
    "\n"
   ]
  },
  {
   "cell_type": "code",
   "execution_count": 24,
   "metadata": {},
   "outputs": [
    {
     "name": "stdout",
     "output_type": "stream",
     "text": [
      "10000/10000 [==============================] - 0s 35us/step\n"
     ]
    },
    {
     "data": {
      "text/plain": [
       "[0.07883858420206234, 0.9751]"
      ]
     },
     "execution_count": 24,
     "metadata": {},
     "output_type": "execute_result"
    }
   ],
   "source": [
    "model.evaluate(test_imgs,test_labels_onehot)"
   ]
  },
  {
   "cell_type": "markdown",
   "metadata": {},
   "source": [
    "## Catastrophic forgetting"
   ]
  },
  {
   "cell_type": "code",
   "execution_count": 19,
   "metadata": {},
   "outputs": [
    {
     "name": "stdout",
     "output_type": "stream",
     "text": [
      "_________________________________________________________________\n",
      "Layer (type)                 Output Shape              Param #   \n",
      "=================================================================\n",
      "conv2d_1 (Conv2D)            (None, 26, 26, 28)        280       \n",
      "_________________________________________________________________\n",
      "max_pooling2d_1 (MaxPooling2 (None, 13, 13, 28)        0         \n",
      "_________________________________________________________________\n",
      "flatten_1 (Flatten)          (None, 4732)              0         \n",
      "_________________________________________________________________\n",
      "dense_1 (Dense)              (None, 128)               605824    \n",
      "_________________________________________________________________\n",
      "dropout_1 (Dropout)          (None, 128)               0         \n",
      "_________________________________________________________________\n",
      "dense_2 (Dense)              (None, 10)                1290      \n",
      "=================================================================\n",
      "Total params: 607,394\n",
      "Trainable params: 607,394\n",
      "Non-trainable params: 0\n",
      "_________________________________________________________________\n"
     ]
    }
   ],
   "source": [
    "model_2 = get_model()\n",
    "\n",
    "\n",
    "model_2.summary()\n",
    "\n",
    "model_2.load_weights('mnist_weights.h5')"
   ]
  },
  {
   "cell_type": "code",
   "execution_count": 20,
   "metadata": {},
   "outputs": [
    {
     "name": "stdout",
     "output_type": "stream",
     "text": [
      "10000/10000 [==============================] - 4s 387us/step\n"
     ]
    }
   ],
   "source": [
    "t1_loss, t1_acc = model_2.evaluate(test_imgs,test_labels_onehot)"
   ]
  },
  {
   "cell_type": "code",
   "execution_count": 21,
   "metadata": {},
   "outputs": [
    {
     "name": "stdout",
     "output_type": "stream",
     "text": [
      "10000/10000 [==============================] - 0s 29us/step\n"
     ]
    },
    {
     "data": {
      "text/plain": [
       "[13.340987274169922, 0.0974]"
      ]
     },
     "execution_count": 21,
     "metadata": {},
     "output_type": "execute_result"
    }
   ],
   "source": [
    "model_2.evaluate(noise_test,test_labels_onehot)"
   ]
  },
  {
   "cell_type": "code",
   "execution_count": 21,
   "metadata": {},
   "outputs": [
    {
     "name": "stdout",
     "output_type": "stream",
     "text": [
      "Train on 49500 samples, validate on 5500 samples\n",
      "Epoch 1/15\n",
      "49500/49500 [==============================] - 18s 355us/step - loss: 0.5742 - acc: 0.8827 - val_loss: 0.1612 - val_acc: 0.9578\n",
      "\n",
      "Epoch 00001: val_loss improved from inf to 0.16120, saving model to mnist_weights_2.h5\n",
      "Epoch 2/15\n",
      "49500/49500 [==============================] - 17s 353us/step - loss: 0.2505 - acc: 0.9235 - val_loss: 0.1554 - val_acc: 0.9585\n",
      "\n",
      "Epoch 00002: val_loss improved from 0.16120 to 0.15542, saving model to mnist_weights_2.h5\n",
      "Epoch 3/15\n",
      "49500/49500 [==============================] - 17s 346us/step - loss: 0.2200 - acc: 0.9315 - val_loss: 0.1361 - val_acc: 0.9618\n",
      "\n",
      "Epoch 00003: val_loss improved from 0.15542 to 0.13606, saving model to mnist_weights_2.h5\n",
      "Epoch 4/15\n",
      "49500/49500 [==============================] - 17s 347us/step - loss: 0.1990 - acc: 0.9382 - val_loss: 0.1218 - val_acc: 0.9665\n",
      "\n",
      "Epoch 00004: val_loss improved from 0.13606 to 0.12176, saving model to mnist_weights_2.h5\n",
      "Epoch 5/15\n",
      "49500/49500 [==============================] - 17s 349us/step - loss: 0.1777 - acc: 0.9444 - val_loss: 0.1145 - val_acc: 0.9682\n",
      "\n",
      "Epoch 00005: val_loss improved from 0.12176 to 0.11448, saving model to mnist_weights_2.h5\n",
      "Epoch 6/15\n",
      "49500/49500 [==============================] - 17s 342us/step - loss: 0.1622 - acc: 0.9498 - val_loss: 0.1058 - val_acc: 0.9711\n",
      "\n",
      "Epoch 00006: val_loss improved from 0.11448 to 0.10585, saving model to mnist_weights_2.h5\n",
      "Epoch 7/15\n",
      "49500/49500 [==============================] - 17s 343us/step - loss: 0.1475 - acc: 0.9556 - val_loss: 0.1022 - val_acc: 0.9749\n",
      "\n",
      "Epoch 00007: val_loss improved from 0.10585 to 0.10222, saving model to mnist_weights_2.h5\n",
      "Epoch 8/15\n",
      "49500/49500 [==============================] - 17s 341us/step - loss: 0.1350 - acc: 0.9587 - val_loss: 0.0920 - val_acc: 0.9742\n",
      "\n",
      "Epoch 00008: val_loss improved from 0.10222 to 0.09199, saving model to mnist_weights_2.h5\n",
      "Epoch 9/15\n",
      "49500/49500 [==============================] - 17s 344us/step - loss: 0.1198 - acc: 0.9626 - val_loss: 0.0936 - val_acc: 0.9753\n",
      "\n",
      "Epoch 00009: val_loss did not improve from 0.09199\n",
      "Epoch 10/15\n",
      "49500/49500 [==============================] - 17s 351us/step - loss: 0.1039 - acc: 0.9671 - val_loss: 0.0843 - val_acc: 0.9789\n",
      "\n",
      "Epoch 00010: val_loss improved from 0.09199 to 0.08425, saving model to mnist_weights_2.h5\n",
      "Epoch 11/15\n",
      "49500/49500 [==============================] - 17s 345us/step - loss: 0.0940 - acc: 0.9715 - val_loss: 0.0845 - val_acc: 0.9776\n",
      "\n",
      "Epoch 00011: val_loss did not improve from 0.08425\n",
      "Epoch 12/15\n",
      "49500/49500 [==============================] - 18s 357us/step - loss: 0.0891 - acc: 0.9727 - val_loss: 0.0786 - val_acc: 0.9785\n",
      "\n",
      "Epoch 00012: val_loss improved from 0.08425 to 0.07857, saving model to mnist_weights_2.h5\n",
      "Epoch 13/15\n",
      "49500/49500 [==============================] - 18s 357us/step - loss: 0.0850 - acc: 0.9741 - val_loss: 0.0766 - val_acc: 0.9800\n",
      "\n",
      "Epoch 00013: val_loss improved from 0.07857 to 0.07659, saving model to mnist_weights_2.h5\n",
      "Epoch 14/15\n",
      "49500/49500 [==============================] - 17s 342us/step - loss: 0.0814 - acc: 0.9742 - val_loss: 0.0762 - val_acc: 0.9807\n",
      "\n",
      "Epoch 00014: val_loss improved from 0.07659 to 0.07624, saving model to mnist_weights_2.h5\n",
      "Epoch 15/15\n",
      "49500/49500 [==============================] - 17s 336us/step - loss: 0.0796 - acc: 0.9757 - val_loss: 0.0746 - val_acc: 0.9813\n",
      "\n",
      "Epoch 00015: val_loss improved from 0.07624 to 0.07460, saving model to mnist_weights_2.h5\n"
     ]
    }
   ],
   "source": [
    "earlystopper = EarlyStopping(patience=3, verbose=1)\n",
    "checkpointer = ModelCheckpoint('mnist_weights_2.h5', verbose=1, save_best_only=True)\n",
    "results = model_2.fit(noise_train, train_labels_onehot,epochs=15, validation_split=0.1, batch_size=8,callbacks=[earlystopper, checkpointer])\n",
    "\n"
   ]
  },
  {
   "cell_type": "code",
   "execution_count": 22,
   "metadata": {},
   "outputs": [
    {
     "name": "stdout",
     "output_type": "stream",
     "text": [
      "10000/10000 [==============================] - 0s 36us/step\n"
     ]
    },
    {
     "data": {
      "text/plain": [
       "[0.07414826228781603, 0.9773]"
      ]
     },
     "execution_count": 22,
     "metadata": {},
     "output_type": "execute_result"
    }
   ],
   "source": [
    "model_2.evaluate(noise_test,test_labels_onehot)"
   ]
  },
  {
   "cell_type": "code",
   "execution_count": 23,
   "metadata": {},
   "outputs": [
    {
     "name": "stdout",
     "output_type": "stream",
     "text": [
      "10000/10000 [==============================] - 0s 33us/step\n"
     ]
    },
    {
     "data": {
      "text/plain": [
       "[14.428858853149414, 0.0932]"
      ]
     },
     "execution_count": 23,
     "metadata": {},
     "output_type": "execute_result"
    }
   ],
   "source": [
    "model_2.evaluate(test_imgs,test_labels_onehot)\n"
   ]
  },
  {
   "cell_type": "markdown",
   "metadata": {},
   "source": [
    "Perviously the model performed well with around 97% on images without noise. Now the accuracy dropped to 9%"
   ]
  },
  {
   "cell_type": "code",
   "execution_count": null,
   "metadata": {},
   "outputs": [],
   "source": []
  }
 ],
 "metadata": {
  "kernelspec": {
   "display_name": "Python 3",
   "language": "python",
   "name": "python3"
  },
  "language_info": {
   "codemirror_mode": {
    "name": "ipython",
    "version": 3
   },
   "file_extension": ".py",
   "mimetype": "text/x-python",
   "name": "python",
   "nbconvert_exporter": "python",
   "pygments_lexer": "ipython3",
   "version": "3.6.8"
  }
 },
 "nbformat": 4,
 "nbformat_minor": 2
}
